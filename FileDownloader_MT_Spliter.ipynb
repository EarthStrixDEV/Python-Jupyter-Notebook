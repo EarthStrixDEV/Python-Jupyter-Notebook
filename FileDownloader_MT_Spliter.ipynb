{
 "cells": [
  {
   "cell_type": "code",
   "execution_count": 1,
   "metadata": {},
   "outputs": [],
   "source": [
    "import requests\n",
    "import threading\n",
    "import os"
   ]
  },
  {
   "cell_type": "code",
   "execution_count": 2,
   "metadata": {},
   "outputs": [
    {
     "name": "stdout",
     "output_type": "stream",
     "text": [
      "http://ipv4.download.thinkbroadband.com/512MB.zip\n"
     ]
    }
   ],
   "source": [
    "url_input = input(\"Enter the URL: \")\n",
    "url = url_input.split('?')[0] if url_input.count('?') > 1 else url_input\n",
    "num_threads = 4\n",
    "print(url) # Number of threads for concurrent downloads"
   ]
  },
  {
   "cell_type": "code",
   "execution_count": 3,
   "metadata": {},
   "outputs": [],
   "source": [
    "# Step 1: Download the Large File with Split Downloads\n",
    "def download_chunk(start, end, url, chunk_number):\n",
    "    headers = {'Range': f'bytes={start}-{end}'}\n",
    "    response = requests.get(url, headers=headers, stream=True)\n",
    "\n",
    "    with open(f'chunk_{chunk_number}', 'wb') as file:\n",
    "        for chunk in response.iter_content(chunk_size=1024):\n",
    "            if chunk:\n",
    "                file.write(chunk)"
   ]
  },
  {
   "cell_type": "code",
   "execution_count": 4,
   "metadata": {},
   "outputs": [],
   "source": [
    "response = requests.head(url)\n",
    "file_size = int(response.headers['content-length'])\n",
    "\n",
    "chunk_size = file_size // num_threads\n",
    "\n",
    "threads = []"
   ]
  },
  {
   "cell_type": "code",
   "execution_count": 5,
   "metadata": {},
   "outputs": [],
   "source": [
    "for i in range(num_threads):\n",
    "    start = i * chunk_size\n",
    "    end = min((i + 1) * chunk_size - 1, file_size - 1)\n",
    "    thread = threading.Thread(target=download_chunk, args=(start, end, url, i))\n",
    "    threads.append(thread)\n",
    "    thread.start()\n",
    "\n",
    "for thread in threads:\n",
    "    thread.join()"
   ]
  },
  {
   "cell_type": "code",
   "execution_count": 1,
   "metadata": {},
   "outputs": [],
   "source": [
    "# Step 2: Combine the Files\n",
    "def combine_files(chunk_prefix, output_file):\n",
    "    with open(output_file, 'wb') as output_f:\n",
    "        chunk_number = 0\n",
    "        while True:\n",
    "            try:\n",
    "                with open(f'{chunk_prefix}_{chunk_number}', 'rb') as chunk_f:\n",
    "                    chunk = chunk_f.read()\n",
    "                    if not chunk:\n",
    "                        break\n",
    "                    output_f.write(chunk)\n",
    "                chunk_number += 1\n",
    "            except FileNotFoundError:\n",
    "                break\n",
    "\n",
    "chunk_prefix = 'chunk'  # Prefix used while splitting\n",
    "output_file = 'combined_file.zip'  # Specify the desired output file name\n",
    "\n",
    "combine_files(chunk_prefix, output_file)"
   ]
  },
  {
   "cell_type": "code",
   "execution_count": 2,
   "metadata": {},
   "outputs": [
    {
     "ename": "NameError",
     "evalue": "name 'os' is not defined",
     "output_type": "error",
     "traceback": [
      "\u001b[1;31m---------------------------------------------------------------------------\u001b[0m",
      "\u001b[1;31mNameError\u001b[0m                                 Traceback (most recent call last)",
      "\u001b[1;32md:\\WorkspaceProgrammer\\Python\\JupyterNotebook\\FileDownloader_MT_Spliter.ipynb Cell 7\u001b[0m line \u001b[0;36m7\n\u001b[0;32m      <a href='vscode-notebook-cell:/d%3A/WorkspaceProgrammer/Python/JupyterNotebook/FileDownloader_MT_Spliter.ipynb#W6sZmlsZQ%3D%3D?line=3'>4</a>\u001b[0m         \u001b[39mif\u001b[39;00m file_name\u001b[39m.\u001b[39mstartswith(chunk_prefix):\n\u001b[0;32m      <a href='vscode-notebook-cell:/d%3A/WorkspaceProgrammer/Python/JupyterNotebook/FileDownloader_MT_Spliter.ipynb#W6sZmlsZQ%3D%3D?line=4'>5</a>\u001b[0m             os\u001b[39m.\u001b[39mremove(file_name)\n\u001b[1;32m----> <a href='vscode-notebook-cell:/d%3A/WorkspaceProgrammer/Python/JupyterNotebook/FileDownloader_MT_Spliter.ipynb#W6sZmlsZQ%3D%3D?line=6'>7</a>\u001b[0m clean_up_chunks(chunk_prefix)  \u001b[39m# Clean up files with prefix 'chunk'\u001b[39;00m\n",
      "\u001b[1;32md:\\WorkspaceProgrammer\\Python\\JupyterNotebook\\FileDownloader_MT_Spliter.ipynb Cell 7\u001b[0m line \u001b[0;36m3\n\u001b[0;32m      <a href='vscode-notebook-cell:/d%3A/WorkspaceProgrammer/Python/JupyterNotebook/FileDownloader_MT_Spliter.ipynb#W6sZmlsZQ%3D%3D?line=1'>2</a>\u001b[0m \u001b[39mdef\u001b[39;00m \u001b[39mclean_up_chunks\u001b[39m(chunk_prefix):\n\u001b[1;32m----> <a href='vscode-notebook-cell:/d%3A/WorkspaceProgrammer/Python/JupyterNotebook/FileDownloader_MT_Spliter.ipynb#W6sZmlsZQ%3D%3D?line=2'>3</a>\u001b[0m     \u001b[39mfor\u001b[39;00m file_name \u001b[39min\u001b[39;00m os\u001b[39m.\u001b[39mlistdir():\n\u001b[0;32m      <a href='vscode-notebook-cell:/d%3A/WorkspaceProgrammer/Python/JupyterNotebook/FileDownloader_MT_Spliter.ipynb#W6sZmlsZQ%3D%3D?line=3'>4</a>\u001b[0m         \u001b[39mif\u001b[39;00m file_name\u001b[39m.\u001b[39mstartswith(chunk_prefix):\n\u001b[0;32m      <a href='vscode-notebook-cell:/d%3A/WorkspaceProgrammer/Python/JupyterNotebook/FileDownloader_MT_Spliter.ipynb#W6sZmlsZQ%3D%3D?line=4'>5</a>\u001b[0m             os\u001b[39m.\u001b[39mremove(file_name)\n",
      "\u001b[1;31mNameError\u001b[0m: name 'os' is not defined"
     ]
    }
   ],
   "source": [
    "# Step 3: Clean Up Split Files\n",
    "def clean_up_chunks(chunk_prefix):\n",
    "    for file_name in os.listdir():\n",
    "        if file_name.startswith(chunk_prefix):\n",
    "            os.remove(file_name)\n",
    "\n",
    "clean_up_chunks(chunk_prefix)  # Clean up files with prefix 'chunk'"
   ]
  }
 ],
 "metadata": {
  "kernelspec": {
   "display_name": "Python 3",
   "language": "python",
   "name": "python3"
  },
  "language_info": {
   "codemirror_mode": {
    "name": "ipython",
    "version": 3
   },
   "file_extension": ".py",
   "mimetype": "text/x-python",
   "name": "python",
   "nbconvert_exporter": "python",
   "pygments_lexer": "ipython3",
   "version": "3.10.6"
  }
 },
 "nbformat": 4,
 "nbformat_minor": 2
}
