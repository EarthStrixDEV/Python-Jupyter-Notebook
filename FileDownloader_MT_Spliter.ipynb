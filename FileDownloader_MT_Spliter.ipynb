{
 "cells": [
  {
   "cell_type": "code",
   "execution_count": 33,
   "metadata": {},
   "outputs": [],
   "source": [
    "import requests\n",
    "import threading\n",
    "import os\n",
    "import datetime\n",
    "import glob"
   ]
  },
  {
   "cell_type": "code",
   "execution_count": null,
   "metadata": {},
   "outputs": [],
   "source": [
    "# Using multiThreading (available in now)"
   ]
  },
  {
   "cell_type": "code",
   "execution_count": 34,
   "metadata": {},
   "outputs": [
    {
     "name": "stdout",
     "output_type": "stream",
     "text": [
      "http://ipv4.download.thinkbroadband.com/512MB.zip\n"
     ]
    }
   ],
   "source": [
    "url_input = input(\"Enter the URL: \")\n",
    "url = url_input.split('?')[0] if url_input.count('?') > 1 else url_input\n",
    "num_threads = 12\n",
    "print(url) # Number of threads for concurrent downloads"
   ]
  },
  {
   "cell_type": "code",
   "execution_count": 35,
   "metadata": {},
   "outputs": [],
   "source": [
    "# Step 1: Download the Large File with Split Downloads\n",
    "def download_chunk(start, end, url, chunk_number):\n",
    "    headers = {'Range': f'bytes={start}-{end}'}\n",
    "    response = requests.get(url, headers=headers, stream=True)\n",
    "\n",
    "    with open(f'chunk_{chunk_number}', 'wb') as file:\n",
    "        for chunk in response.iter_content(chunk_size=1024):\n",
    "            if chunk:\n",
    "                file.write(chunk)\n",
    "                print(chunk)"
   ]
  },
  {
   "cell_type": "code",
   "execution_count": 36,
   "metadata": {},
   "outputs": [],
   "source": [
    "response = requests.head(url)\n",
    "file_size = int(response.headers['content-length'])\n",
    "chunk_size = file_size // num_threads\n",
    "threads = []"
   ]
  },
  {
   "cell_type": "code",
   "execution_count": null,
   "metadata": {},
   "outputs": [],
   "source": [
    "for i in range(num_threads):\n",
    "    start = i * chunk_size\n",
    "    end = min((i + 1) * chunk_size - 1, file_size - 1)\n",
    "    thread = threading.Thread(target=download_chunk, args=(start, end, url, i))\n",
    "    threads.append(thread)\n",
    "    thread.start()\n",
    "\n",
    "for thread in threads:\n",
    "    thread.join()"
   ]
  },
  {
   "cell_type": "code",
   "execution_count": null,
   "metadata": {},
   "outputs": [],
   "source": [
    "# Step 2: Combine the Files\n",
    "def combine_files(chunk_prefix, output_file):\n",
    "    with open(output_file, 'wb') as output_f:\n",
    "        chunk_number = 0\n",
    "        while True:\n",
    "            try:\n",
    "                with open(f'{chunk_prefix}_{chunk_number}', 'rb') as chunk_f:\n",
    "                    chunk = chunk_f.read()\n",
    "                    if not chunk:\n",
    "                        break\n",
    "                    output_f.write(chunk)\n",
    "                chunk_number += 1\n",
    "            except FileNotFoundError:\n",
    "                break\n",
    "\n",
    "time_now = datetime.datetime.now().strftime('%Y-%m-%d_%H-%M-%S')\n",
    "chunk_prefix = 'chunk'  # Prefix used while splitting\n",
    "output_file = f'file_{time_now}_.zip'  # Specify the desired output file name\n",
    "\n",
    "combine_files(chunk_prefix, output_file)"
   ]
  },
  {
   "cell_type": "code",
   "execution_count": null,
   "metadata": {},
   "outputs": [],
   "source": [
    "# Step 3: Clean Up Split Files\n",
    "def clean_up_chunks(chunk_prefix):\n",
    "    for file_name in glob.glob(f'{chunk_prefix}_*'):\n",
    "        os.remove(file_name)\n",
    "\n",
    "clean_up_chunks(chunk_prefix)  # Clean up files with prefix 'chunk'"
   ]
  },
  {
   "cell_type": "code",
   "execution_count": null,
   "metadata": {},
   "outputs": [],
   "source": [
    "# Using ThreadPoolExecutor (Concurrency)\n",
    "# Version 2"
   ]
  },
  {
   "cell_type": "code",
   "execution_count": 14,
   "metadata": {},
   "outputs": [],
   "source": [
    "import requests\n",
    "from concurrent.futures import ThreadPoolExecutor\n",
    "from concurrent.futures import as_completed\n",
    "import os\n",
    "import datetime"
   ]
  },
  {
   "cell_type": "code",
   "execution_count": 15,
   "metadata": {},
   "outputs": [
    {
     "name": "stdout",
     "output_type": "stream",
     "text": [
      "http://ipv4.download.thinkbroadband.com/512MB.zip\n"
     ]
    }
   ],
   "source": [
    "url_input = input(\"Enter the URL: \")\n",
    "url = url_input.split('?')[0] if url_input.count('?') > 1 else url_input\n",
    "num_threads = 12\n",
    "print(url) # Number of threads for concurrent downloads"
   ]
  },
  {
   "cell_type": "code",
   "execution_count": 16,
   "metadata": {},
   "outputs": [],
   "source": [
    "def download_chunk(start, end, url, chunk_number):\n",
    "    headers = {'Range': f'bytes={start}-{end}'}\n",
    "    response = requests.get(url, headers=headers, stream=True)\n",
    "\n",
    "    with open(f'chunk_{chunk_number}', 'wb') as file:\n",
    "        for chunk in response.iter_content(chunk_size=1024):\n",
    "            if chunk:\n",
    "                file.write(chunk)"
   ]
  },
  {
   "cell_type": "code",
   "execution_count": 17,
   "metadata": {},
   "outputs": [
    {
     "name": "stdout",
     "output_type": "stream",
     "text": [
      "None\n",
      "None\n",
      "None\n",
      "None\n",
      "None\n",
      "None\n",
      "None\n",
      "None\n",
      "None\n",
      "None\n",
      "None\n",
      "None\n",
      "None\n",
      "None\n",
      "None\n",
      "None\n",
      "None\n",
      "None\n",
      "None\n",
      "None\n",
      "None\n",
      "None\n",
      "None\n",
      "None\n",
      "Done\n"
     ]
    }
   ],
   "source": [
    "response = requests.head(url)\n",
    "file_size = int(response.headers['content-length'])\n",
    "\n",
    "chunk_size = file_size // num_threads\n",
    "\n",
    "with ThreadPoolExecutor(max_workers=num_threads) as executor:\n",
    "    # Create a list of futures for each thread and wait for them to finish before continuing.\n",
    "    task = []\n",
    "    for i in range(num_threads):\n",
    "        start = i * chunk_size\n",
    "        end = start + chunk_size\n",
    "        task.append(executor.submit(download_chunk, start , end, url , i))\n",
    "\n",
    "    for future in as_completed(task):\n",
    "        future.result()\n",
    "        print(future.result())\n",
    "        print(future.exception())\n",
    "\n",
    "    print('Done')"
   ]
  },
  {
   "cell_type": "code",
   "execution_count": 18,
   "metadata": {},
   "outputs": [],
   "source": [
    "# Step 2: Combine the Files\n",
    "def combine_files(chunk_prefix, output_file):\n",
    "    with open(output_file, 'wb') as output_f:\n",
    "        chunk_number = 0\n",
    "        while True:\n",
    "            try:\n",
    "                with open(f'{chunk_prefix}_{chunk_number}', 'rb') as chunk_f:\n",
    "                    chunk = chunk_f.read(1024)  # Read in 1KB chunks\n",
    "                    while chunk:\n",
    "                        output_f.write(chunk)\n",
    "                        chunk = chunk_f.read(1024)\n",
    "                chunk_number += 1\n",
    "            except FileNotFoundError:\n",
    "                break"
   ]
  },
  {
   "cell_type": "code",
   "execution_count": 19,
   "metadata": {},
   "outputs": [],
   "source": [
    "filename_ = datetime.datetime.now().strftime('%Y%m%d%H%M%S')\n",
    "chunk_prefix = 'chunk'  # Prefix used while splitting\n",
    "output_file = f'file_{filename_}_.zip'  # Specify the desired output file name\n",
    "\n",
    "combine_files(chunk_prefix, output_file)"
   ]
  },
  {
   "cell_type": "code",
   "execution_count": 20,
   "metadata": {},
   "outputs": [],
   "source": [
    "# Step 3: Clean Up Split Files\n",
    "def clean_up_chunks(chunk_prefix):\n",
    "    for file_name in os.listdir():\n",
    "        if file_name.startswith(chunk_prefix):\n",
    "            os.remove(file_name)\n",
    "\n",
    "clean_up_chunks(chunk_prefix)  # Clean up files with prefix 'chunk'"
   ]
  }
 ],
 "metadata": {
  "kernelspec": {
   "display_name": "Python 3",
   "language": "python",
   "name": "python3"
  },
  "language_info": {
   "codemirror_mode": {
    "name": "ipython",
    "version": 3
   },
   "file_extension": ".py",
   "mimetype": "text/x-python",
   "name": "python",
   "nbconvert_exporter": "python",
   "pygments_lexer": "ipython3",
   "version": "3.10.6"
  }
 },
 "nbformat": 4,
 "nbformat_minor": 2
}
