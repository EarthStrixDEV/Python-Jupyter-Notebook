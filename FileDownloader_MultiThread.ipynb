{
 "cells": [
  {
   "cell_type": "code",
   "execution_count": 1,
   "metadata": {},
   "outputs": [],
   "source": [
    "import requests\n",
    "import threading\n",
    "import random\n",
    "from concurrent.futures import ThreadPoolExecutor\n",
    "import datetime\n",
    "import os"
   ]
  },
  {
   "cell_type": "code",
   "execution_count": 2,
   "metadata": {},
   "outputs": [],
   "source": [
    "url = []\n",
    "filename = []\n",
    "task_thread = []\n",
    "while True:\n",
    "    url_ = input(\"Push your url here: \")\n",
    "    if url_ == \".\":\n",
    "        break\n",
    "    else:\n",
    "        # slice url then slice question mark from url\n",
    "        url_slice = \"\"\n",
    "        for str_ in url_:\n",
    "            if str_ == \"?\":\n",
    "                break\n",
    "            url_slice += str_\n",
    "        url.append(url_slice)\n",
    "        if url_slice.endswith('jpeg') or url_slice.endswith('jpg'):\n",
    "            filename.append(f\"{random.randint(1 ,100)}.jpeg\")\n",
    "        elif url_slice.endswith('png'):\n",
    "            filename.append(f\"{random.randint(1 ,100)}.png\")\n",
    "        elif url_slice.endswith('pdf'):\n",
    "            filename.append(f\"{random.randint(1 ,100)}.pdf\")\n",
    "        # filename.append(str(datetime.datetime.now())[:-7].replace(\" \" ,\"_\") + \".jpeg\")"
   ]
  },
  {
   "cell_type": "code",
   "execution_count": null,
   "metadata": {},
   "outputs": [],
   "source": [
    "for url_ ,filename_ in zip(url ,filename):\n",
    "    print(\"Url: \" ,url_)\n",
    "    print(\"filename: \" ,filename_)"
   ]
  },
  {
   "cell_type": "code",
   "execution_count": 4,
   "metadata": {},
   "outputs": [],
   "source": [
    "def downloader(url_item ,filename_item):\n",
    "    getFile = requests.get(url_item ,stream=True)\n",
    "    with open(f'./{filename_item}' ,'wb') as file_ :\n",
    "        file_.write(getFile.content)\n",
    "    print(\"Write file to disk successfully!\")"
   ]
  },
  {
   "cell_type": "code",
   "execution_count": 6,
   "metadata": {},
   "outputs": [
    {
     "name": "stdout",
     "output_type": "stream",
     "text": [
      "Write file to disk successfully!\n",
      "Write file to disk successfully!\n",
      "Write file to disk successfully!\n",
      "Write file to disk successfully!\n",
      "Write file to disk successfully!\n"
     ]
    }
   ],
   "source": [
    "# start thread processing\n",
    "for url_item ,filename_item in zip(url ,filename):\n",
    "    t1 = threading.Thread(target=downloader ,args=(url_item ,filename_item))\n",
    "    t1.start()\n",
    "    task_thread.append(t1)\n",
    "    \n",
    "for th in task_thread:\n",
    "    th.join()"
   ]
  },
  {
   "cell_type": "code",
   "execution_count": null,
   "metadata": {},
   "outputs": [],
   "source": [
    "print(\"File from jupyter: version 2\")"
   ]
  },
  {
   "cell_type": "code",
   "execution_count": 1,
   "metadata": {},
   "outputs": [],
   "source": [
    "def get_user_input():\n",
    "    urls = []\n",
    "    filenames = []\n",
    "    access_token = []\n",
    "\n",
    "    while True:\n",
    "        url_ = input(\"Push your url here: \")\n",
    "        access_token_ = input(\"Push your access token here (if api url has encrypted): \")\n",
    "        if url_ == \".\":\n",
    "            break\n",
    "        else:\n",
    "            # slice url then slice question mark from url\n",
    "            url_slice = url_.split('?')[0]\n",
    "            urls.append(url_slice)\n",
    "            access_token.append(access_token_)\n",
    "\n",
    "            extensions = {'jpeg': 'jpeg', 'jpg': 'jpeg', 'png': 'png', 'pdf': 'pdf'}\n",
    "            ext = extensions.get(url_slice.split('.')[-1], 'unknown')\n",
    "            filenames.append(f\"{random.randint(1 ,100)}.{ext}\")\n",
    "\n",
    "    return urls, filenames ,access_token"
   ]
  },
  {
   "cell_type": "code",
   "execution_count": 3,
   "metadata": {},
   "outputs": [],
   "source": [
    "def downloader(url_item ,filename_item ,access_token_item):\n",
    "    try:\n",
    "        headers = {}\n",
    "        if access_token_item == \".\":\n",
    "            headers = {\n",
    "                \"Authorization\" : f\"Bearer {access_token_item}\"\n",
    "            }\n",
    "        else:\n",
    "            headers = None\n",
    "        getFile = requests.get(url_item ,headers=headers, stream=True)\n",
    "        with open(f'./{filename_item}', 'wb') as file_:\n",
    "            file_.write(getFile.content)\n",
    "        print(f\"Downloaded {filename_item}\")\n",
    "    except Exception as e:\n",
    "        print(f\"Error downloading {filename_item}: {e}\")"
   ]
  },
  {
   "cell_type": "code",
   "execution_count": 5,
   "metadata": {},
   "outputs": [
    {
     "name": "stdout",
     "output_type": "stream",
     "text": [
      "Downloaded 6.jpeg\n",
      "Downloaded 46.jpeg\n",
      "Downloaded 8.jpeg\n",
      "Downloaded 92.png\n"
     ]
    }
   ],
   "source": [
    "# main program\n",
    "if __name__ == \"__main__\":\n",
    "    \n",
    "    urls, filenames ,access_token = get_user_input()\n",
    "\n",
    "    task_threads = []\n",
    "\n",
    "    for url_item, filename_item ,access_token_item in zip(urls, filenames ,access_token):\n",
    "        t1 = threading.Thread(target=downloader, args=(url_item, filename_item ,access_token_item))\n",
    "        t1.start()\n",
    "        task_threads.append(t1)\n",
    "\n",
    "    for th in task_threads:\n",
    "        th.join()"
   ]
  },
  {
   "cell_type": "code",
   "execution_count": null,
   "metadata": {},
   "outputs": [],
   "source": [
    "print(\"File from jupyter: version 3 using concurrency\")"
   ]
  },
  {
   "cell_type": "code",
   "execution_count": null,
   "metadata": {},
   "outputs": [],
   "source": [
    "def get_user_input():\n",
    "    urls = []\n",
    "    filenames = []\n",
    "    access_token = []\n",
    "\n",
    "    while True:\n",
    "        url_ = input(\"Push your url here: \")\n",
    "        access_token_ = input(\"Push your access token here (if api url has encrypted): \")\n",
    "        if url_ == \".\":\n",
    "            break\n",
    "        else:\n",
    "            # slice url then slice question mark from url\n",
    "            url_slice = url_.split('?')[0]\n",
    "            urls.append(url_slice)\n",
    "            access_token.append(access_token_)\n",
    "\n",
    "            extensions = {'jpeg': 'jpeg', 'jpg': 'jpeg', 'png': 'png', 'pdf': 'pdf'}\n",
    "            ext = extensions.get(url_slice.split('.')[-1], 'unknown')\n",
    "            filenames.append(f\"{random.randint(1 ,100)}.{ext}\")\n",
    "\n",
    "    return urls, filenames ,access_token"
   ]
  },
  {
   "cell_type": "code",
   "execution_count": null,
   "metadata": {},
   "outputs": [],
   "source": [
    "def downloader(url_item ,filename_item ,access_token_item):\n",
    "    try:\n",
    "        headers = {}\n",
    "        if access_token_item == \".\":\n",
    "            headers = {\n",
    "                \"Authorization\" : f\"Bearer {access_token_item}\"\n",
    "            }\n",
    "        else:\n",
    "            headers = None\n",
    "        getFile = requests.get(url_item ,headers=headers, stream=True)\n",
    "        with open(f'./{filename_item}', 'wb') as file_:\n",
    "            file_.write(getFile.content)\n",
    "        print(f\"Downloaded {filename_item}\")\n",
    "    except Exception as e:\n",
    "        print(f\"Error downloading {filename_item}: {e}\")"
   ]
  },
  {
   "cell_type": "code",
   "execution_count": 1,
   "metadata": {},
   "outputs": [],
   "source": [
    "# split the file into chunks of 1024 bytes and combine them into a single file"
   ]
  },
  {
   "cell_type": "code",
   "execution_count": 2,
   "metadata": {},
   "outputs": [
    {
     "name": "stdout",
     "output_type": "stream",
     "text": [
      "2023-10-10_00-11-21\n"
     ]
    }
   ],
   "source": [
    "task_thread = []\n",
    "file_name_with_time = datetime.datetime.now().strftime(\"%Y-%m-%d_%H-%M-%S\")\n",
    "print(file_name_with_time)"
   ]
  },
  {
   "cell_type": "code",
   "execution_count": 3,
   "metadata": {},
   "outputs": [
    {
     "name": "stdout",
     "output_type": "stream",
     "text": [
      "http://ipv4.download.thinkbroadband.com/512MB.zip\n"
     ]
    }
   ],
   "source": [
    "url = input(\"Enter the URL: \")\n",
    "# if file name is not zip file\n",
    "if not url.endswith(\".zip\"):\n",
    "    print(\"Please enter a zip file\")\n",
    "    exit()\n",
    "response = requests.get(url ,stream=True)\n",
    "print(url)"
   ]
  },
  {
   "cell_type": "code",
   "execution_count": 4,
   "metadata": {},
   "outputs": [],
   "source": [
    "def write_content_file(response):\n",
    "    filename_ = f\"file_{file_name_with_time}.zip\"\n",
    "    with open(filename_ ,'wb') as file:\n",
    "        file.write(response.content)\n",
    "\n",
    "t_write_content_file_ = threading.Thread(target=write_content_file, args=(response))\n",
    "task_thread.append(t_write_content_file_)"
   ]
  },
  {
   "cell_type": "code",
   "execution_count": 5,
   "metadata": {},
   "outputs": [],
   "source": [
    "def split_file(file_name ,chunk_size):\n",
    "    with open(file_name ,'wb') as file:\n",
    "        chunk_count = 0\n",
    "        while True:\n",
    "            chunk = file.read(chunk_size)\n",
    "            if not chunk:\n",
    "                break\n",
    "            with open(file_name + str(chunk_count), 'wb') as c_file_:\n",
    "                c_file_.write(chunk)\n",
    "            chunk_count += 1\n",
    "\n",
    "input_file_name = f\"file_{file_name_with_time}.zip\"\n",
    "chunk_size = 2\n",
    "\n",
    "t_split_file = threading.Thread(target=split_file, args=(input_file_name,chunk_size))\n",
    "task_thread.append(t_split_file)"
   ]
  },
  {
   "cell_type": "code",
   "execution_count": 6,
   "metadata": {},
   "outputs": [],
   "source": [
    "def combined_files(chunk_prefix, output_file):\n",
    "    with open(output_file ,'wb') as output_file:\n",
    "        chunk_count = 0\n",
    "        while True:\n",
    "            try:\n",
    "                with open(chunk_prefix + str(chunk_count), 'rb') as chunk_file:\n",
    "                    chunk = chunk_file.read()\n",
    "                    if not chunk:\n",
    "                        break\n",
    "                    output_file.write(chunk)\n",
    "                chunk_count += 1\n",
    "            except FileNotFoundError:\n",
    "                break\n",
    "\n",
    "chunk_prefix = 'chunk'\n",
    "output_file = f'file_{file_name_with_time}_output.zip'\n",
    "\n",
    "t_combined_files = threading.Thread(target=combined_files, args=(chunk_prefix, output_file))\n",
    "task_thread.append(t_combined_files)"
   ]
  },
  {
   "cell_type": "code",
   "execution_count": 7,
   "metadata": {},
   "outputs": [],
   "source": [
    "def clean_chunk_mem(chunk_prefix):\n",
    "    for file_name in os.listdir():\n",
    "        if file_name.startswith(chunk_prefix):\n",
    "            os.remove(file_name)\n",
    "\n",
    "clean_chunk_mem('chunk')\n",
    "t_clean_chunk_mem = threading.Thread(target=clean_chunk_mem, args=('chunk',))\n",
    "task_thread.append(t_clean_chunk_mem)"
   ]
  },
  {
   "cell_type": "code",
   "execution_count": 8,
   "metadata": {},
   "outputs": [
    {
     "name": "stdout",
     "output_type": "stream",
     "text": [
      "<Thread(Thread-5 (write_content_file), initial)>\n",
      "<Thread(Thread-6 (split_file), initial)>\n",
      "<Thread(Thread-7 (combined_files), initial)>\n",
      "<Thread(Thread-8 (clean_chunk_mem), initial)>\n"
     ]
    }
   ],
   "source": [
    "for task in task_thread:\n",
    "    print(task)\n",
    "# check your task"
   ]
  },
  {
   "cell_type": "code",
   "execution_count": 9,
   "metadata": {},
   "outputs": [
    {
     "name": "stderr",
     "output_type": "stream",
     "text": [
      "Exception in thread Thread-6 (split_file):\n",
      "Traceback (most recent call last):\n",
      "  File \"c:\\Program Files\\Python310\\lib\\threading.py\", line 1016, in _bootstrap_inner\n",
      "    self.run()\n",
      "  File \"c:\\Program Files\\Python310\\lib\\threading.py\", line 953, in run\n",
      "    self._target(*self._args, **self._kwargs)\n",
      "  File \"C:\\Users\\warap\\AppData\\Local\\Temp\\ipykernel_5244\\2919900866.py\", line 5, in split_file\n",
      "io.UnsupportedOperation: read\n"
     ]
    }
   ],
   "source": [
    "for task in task_thread:\n",
    "    task.start()\n",
    "# wait for all threads to finish\n",
    "for task in task_thread:\n",
    "    task.join()"
   ]
  }
 ],
 "metadata": {
  "kernelspec": {
   "display_name": "Python 3",
   "language": "python",
   "name": "python3"
  },
  "language_info": {
   "codemirror_mode": {
    "name": "ipython",
    "version": 3
   },
   "file_extension": ".py",
   "mimetype": "text/x-python",
   "name": "python",
   "nbconvert_exporter": "python",
   "pygments_lexer": "ipython3",
   "version": "3.10.6"
  },
  "orig_nbformat": 4
 },
 "nbformat": 4,
 "nbformat_minor": 2
}
