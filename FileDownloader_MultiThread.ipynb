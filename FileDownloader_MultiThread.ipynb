{
 "cells": [
  {
   "cell_type": "code",
   "execution_count": 2,
   "metadata": {},
   "outputs": [],
   "source": [
    "import requests\n",
    "import threading\n",
    "import random\n",
    "from concurrent.futures import ThreadPoolExecutor\n",
    "import datetime\n",
    "import os"
   ]
  },
  {
   "cell_type": "code",
   "execution_count": 2,
   "metadata": {},
   "outputs": [],
   "source": [
    "url = []\n",
    "filename = []\n",
    "task_thread = []\n",
    "while True:\n",
    "    url_ = input(\"Push your url here: \")\n",
    "    if url_ == \".\":\n",
    "        break\n",
    "    else:\n",
    "        # slice url then slice question mark from url\n",
    "        url_slice = \"\"\n",
    "        for str_ in url_:\n",
    "            if str_ == \"?\":\n",
    "                break\n",
    "            url_slice += str_\n",
    "        url.append(url_slice)\n",
    "        if url_slice.endswith('jpeg') or url_slice.endswith('jpg'):\n",
    "            filename.append(f\"{random.randint(1 ,100)}.jpeg\")\n",
    "        elif url_slice.endswith('png'):\n",
    "            filename.append(f\"{random.randint(1 ,100)}.png\")\n",
    "        elif url_slice.endswith('pdf'):\n",
    "            filename.append(f\"{random.randint(1 ,100)}.pdf\")\n",
    "        # filename.append(str(datetime.datetime.now())[:-7].replace(\" \" ,\"_\") + \".jpeg\")"
   ]
  },
  {
   "cell_type": "code",
   "execution_count": null,
   "metadata": {},
   "outputs": [],
   "source": [
    "for url_ ,filename_ in zip(url ,filename):\n",
    "    print(\"Url: \" ,url_)\n",
    "    print(\"filename: \" ,filename_)"
   ]
  },
  {
   "cell_type": "code",
   "execution_count": 4,
   "metadata": {},
   "outputs": [],
   "source": [
    "def downloader(url_item ,filename_item):\n",
    "    getFile = requests.get(url_item ,stream=True)\n",
    "    with open(f'./{filename_item}' ,'wb') as file_ :\n",
    "        file_.write(getFile.content)\n",
    "    print(\"Write file to disk successfully!\")"
   ]
  },
  {
   "cell_type": "code",
   "execution_count": 6,
   "metadata": {},
   "outputs": [
    {
     "name": "stdout",
     "output_type": "stream",
     "text": [
      "Write file to disk successfully!\n",
      "Write file to disk successfully!\n",
      "Write file to disk successfully!\n",
      "Write file to disk successfully!\n",
      "Write file to disk successfully!\n"
     ]
    }
   ],
   "source": [
    "# start thread processing\n",
    "for url_item ,filename_item in zip(url ,filename):\n",
    "    t1 = threading.Thread(target=downloader ,args=(url_item ,filename_item))\n",
    "    t1.start()\n",
    "    task_thread.append(t1)\n",
    "    \n",
    "for th in task_thread:\n",
    "    th.join()"
   ]
  },
  {
   "cell_type": "code",
   "execution_count": null,
   "metadata": {},
   "outputs": [],
   "source": [
    "print(\"File from jupyter: version 2\")"
   ]
  },
  {
   "cell_type": "code",
   "execution_count": 1,
   "metadata": {},
   "outputs": [],
   "source": [
    "def get_user_input():\n",
    "    urls = []\n",
    "    filenames = []\n",
    "    access_token = []\n",
    "\n",
    "    while True:\n",
    "        url_ = input(\"Push your url here: \")\n",
    "        access_token_ = input(\"Push your access token here (if api url has encrypted): \")\n",
    "        if url_ == \".\":\n",
    "            break\n",
    "        else:\n",
    "            # slice url then slice question mark from url\n",
    "            url_slice = url_.split('?')[0]\n",
    "            urls.append(url_slice)\n",
    "            access_token.append(access_token_)\n",
    "\n",
    "            extensions = {'jpeg': 'jpeg', 'jpg': 'jpeg', 'png': 'png', 'pdf': 'pdf'}\n",
    "            ext = extensions.get(url_slice.split('.')[-1], 'unknown')\n",
    "            filenames.append(f\"{random.randint(1 ,100)}.{ext}\")\n",
    "\n",
    "    return urls, filenames ,access_token"
   ]
  },
  {
   "cell_type": "code",
   "execution_count": 3,
   "metadata": {},
   "outputs": [],
   "source": [
    "def downloader(url_item ,filename_item ,access_token_item):\n",
    "    try:\n",
    "        headers = {}\n",
    "        if access_token_item == \".\":\n",
    "            headers = {\n",
    "                \"Authorization\" : f\"Bearer {access_token_item}\"\n",
    "            }\n",
    "        else:\n",
    "            headers = None\n",
    "        getFile = requests.get(url_item ,headers=headers, stream=True)\n",
    "        with open(f'./{filename_item}', 'wb') as file_:\n",
    "            file_.write(getFile.content)\n",
    "        print(f\"Downloaded {filename_item}\")\n",
    "    except Exception as e:\n",
    "        print(f\"Error downloading {filename_item}: {e}\")"
   ]
  },
  {
   "cell_type": "code",
   "execution_count": 5,
   "metadata": {},
   "outputs": [
    {
     "name": "stdout",
     "output_type": "stream",
     "text": [
      "Downloaded 6.jpeg\n",
      "Downloaded 46.jpeg\n",
      "Downloaded 8.jpeg\n",
      "Downloaded 92.png\n"
     ]
    }
   ],
   "source": [
    "# main program\n",
    "if __name__ == \"__main__\":\n",
    "    \n",
    "    urls, filenames ,access_token = get_user_input()\n",
    "\n",
    "    task_threads = []\n",
    "\n",
    "    for url_item, filename_item ,access_token_item in zip(urls, filenames ,access_token):\n",
    "        t1 = threading.Thread(target=downloader, args=(url_item, filename_item ,access_token_item))\n",
    "        t1.start()\n",
    "        task_threads.append(t1)\n",
    "\n",
    "    for th in task_threads:\n",
    "        th.join()"
   ]
  },
  {
   "cell_type": "code",
   "execution_count": null,
   "metadata": {},
   "outputs": [],
   "source": [
    "print(\"File from jupyter: version 3 using concurrency\")"
   ]
  },
  {
   "cell_type": "code",
   "execution_count": null,
   "metadata": {},
   "outputs": [],
   "source": [
    "def get_user_input():\n",
    "    urls = []\n",
    "    filenames = []\n",
    "    access_token = []\n",
    "\n",
    "    while True:\n",
    "        url_ = input(\"Push your url here: \")\n",
    "        access_token_ = input(\"Push your access token here (if api url has encrypted): \")\n",
    "        if url_ == \".\":\n",
    "            break\n",
    "        else:\n",
    "            # slice url then slice question mark from url\n",
    "            url_slice = url_.split('?')[0]\n",
    "            urls.append(url_slice)\n",
    "            access_token.append(access_token_)\n",
    "\n",
    "            extensions = {'jpeg': 'jpeg', 'jpg': 'jpeg', 'png': 'png', 'pdf': 'pdf'}\n",
    "            ext = extensions.get(url_slice.split('.')[-1], 'unknown')\n",
    "            filenames.append(f\"{random.randint(1 ,100)}.{ext}\")\n",
    "\n",
    "    return urls, filenames ,access_token"
   ]
  },
  {
   "cell_type": "code",
   "execution_count": null,
   "metadata": {},
   "outputs": [],
   "source": [
    "def downloader(url_item ,filename_item ,access_token_item):\n",
    "    try:\n",
    "        headers = {}\n",
    "        if access_token_item == \".\":\n",
    "            headers = {\n",
    "                \"Authorization\" : f\"Bearer {access_token_item}\"\n",
    "            }\n",
    "        else:\n",
    "            headers = None\n",
    "        getFile = requests.get(url_item ,headers=headers, stream=True)\n",
    "        with open(f'./{filename_item}', 'wb') as file_:\n",
    "            file_.write(getFile.content)\n",
    "        print(f\"Downloaded {filename_item}\")\n",
    "    except Exception as e:\n",
    "        print(f\"Error downloading {filename_item}: {e}\")"
   ]
  },
  {
   "cell_type": "code",
   "execution_count": 1,
   "metadata": {},
   "outputs": [],
   "source": [
    "# split the file into chunks of 1024 bytes and combine them into a single file"
   ]
  },
  {
   "cell_type": "code",
   "execution_count": null,
   "metadata": {},
   "outputs": [],
   "source": [
    "tasks_thread = []"
   ]
  },
  {
   "cell_type": "code",
   "execution_count": null,
   "metadata": {},
   "outputs": [],
   "source": [
    "url = input(\"Enter the URL: \").split(\"?\")[0]\n",
    "# if file name is not zip file\n",
    "if not url.endswith(\".zip\"):\n",
    "    print(\"Please enter a zip file\")\n",
    "    exit()\n",
    "response = requests.get(url)\n",
    "print(url)"
   ]
  },
  {
   "cell_type": "code",
   "execution_count": null,
   "metadata": {},
   "outputs": [],
   "source": [
    "filename_ = f\"file_{datetime.datetime.now().strftime('%Y%m%d%H%M%S')}.zip\"\n",
    "\n",
    "with open(filename_ ,'wb') as file:\n",
    "    file.write(response.content)"
   ]
  },
  {
   "cell_type": "code",
   "execution_count": null,
   "metadata": {},
   "outputs": [],
   "source": [
    "def split_file(file_name ,chunk_size):\n",
    "    with open(file_name ,'wb') as file:\n",
    "        chunk_count = 0\n",
    "        while True:\n",
    "            chunk = file.read(chunk_count)\n",
    "            if not chunk:\n",
    "                break\n",
    "            with open(file_name + str(chunk_count), 'wb') as c_file_:\n",
    "                c_file_.write(chunk)\n",
    "            chunk_count += 1\n",
    "\n",
    "input_file_name = f\"file_{datetime.now().strftime('%Y%m%d_%H%M%S')}.zip\"\n",
    "chunk_size = 1024 * 1024\n",
    "\n",
    "split_file(input_file_name,chunk_size)"
   ]
  },
  {
   "cell_type": "code",
   "execution_count": null,
   "metadata": {},
   "outputs": [],
   "source": [
    "def combined_files(chunk_prefix, output_file):\n",
    "    with open(output_file ,'wb') as output_file:\n",
    "        chunk_count = 0\n",
    "        while True:\n",
    "            try:\n",
    "                with open(chunk_prefix + str(chunk_count), 'rb') as chunk_file:\n",
    "                    chunk = chunk_file.read()\n",
    "                    if not chunk:\n",
    "                        break\n",
    "                    output_file.write(chunk)\n",
    "                chunk_count += 1\n",
    "            except FileNotFoundError:\n",
    "                break\n",
    "\n",
    "chunk_prefix = 'chunk'\n",
    "output_file = f'file_{datetime.now().strftime(\"%Y%m%d_%H%M%S\")}.zip'\n",
    "\n",
    "combined_files(chunk_prefix , output_file)"
   ]
  },
  {
   "cell_type": "code",
   "execution_count": null,
   "metadata": {},
   "outputs": [],
   "source": [
    "def clean_chunk_mem(chunk_prefix):\n",
    "    for file_name in os.listdir():\n",
    "        if file_name.startswith(chunk_prefix):\n",
    "            os.remove(file_name)\n",
    "\n",
    "clean_chunk_mem('chunk')"
   ]
  },
  {
   "cell_type": "code",
   "execution_count": null,
   "metadata": {},
   "outputs": [],
   "source": [
    "precess_list = []\n",
    "parameter_list = []\n",
    "\n",
    "for precess ,parameter in zip(precess_list,parameter_list):\n",
    "    threads = threading.Thread(target=precess, args=(parameter,))"
   ]
  }
 ],
 "metadata": {
  "kernelspec": {
   "display_name": "Python 3",
   "language": "python",
   "name": "python3"
  },
  "language_info": {
   "codemirror_mode": {
    "name": "ipython",
    "version": 3
   },
   "file_extension": ".py",
   "mimetype": "text/x-python",
   "name": "python",
   "nbconvert_exporter": "python",
   "pygments_lexer": "ipython3",
   "version": "3.10.6"
  },
  "orig_nbformat": 4
 },
 "nbformat": 4,
 "nbformat_minor": 2
}
