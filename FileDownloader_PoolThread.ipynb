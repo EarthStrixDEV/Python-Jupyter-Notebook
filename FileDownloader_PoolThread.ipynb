{
 "cells": [
  {
   "cell_type": "code",
   "execution_count": null,
   "metadata": {},
   "outputs": [],
   "source": [
    "import requests\n",
    "from concurrent.futures import ThreadPoolExecutor\n",
    "import os"
   ]
  },
  {
   "cell_type": "code",
   "execution_count": null,
   "metadata": {},
   "outputs": [],
   "source": [
    "url_input = input(\"Enter the URL: \")\n",
    "url = url_input.split('?')[0] if url_input.count('?') > 1 else url_input\n",
    "num_threads = 4\n",
    "print(url)"
   ]
  },
  {
   "cell_type": "code",
   "execution_count": null,
   "metadata": {},
   "outputs": [],
   "source": [
    "def download_chunk(start, end, url, chunk_number):\n",
    "    headers = {'Range': f'bytes={start}-{end}'}\n",
    "    response = requests.get(url, headers=headers, stream=True)\n",
    "\n",
    "    with open(f'chunk_{chunk_number}', 'wb') as file:\n",
    "        for chunk in response.iter_content(chunk_size=1024):\n",
    "            if chunk:\n",
    "                file.write(chunk)"
   ]
  },
  {
   "cell_type": "code",
   "execution_count": null,
   "metadata": {},
   "outputs": [],
   "source": [
    "response = requests.head(url)\n",
    "file_size = int(response.headers['content-length'])\n",
    "chunk_size = file_size // num_threads\n",
    "ranges = [(i * chunk_size, min((i + 1) * chunk_size - 1, file_size - 1)) for i in range(num_threads)]\n",
    "print(response)\n",
    "print(file_size)\n",
    "print(chunk_size)\n",
    "print(ranges)"
   ]
  },
  {
   "cell_type": "code",
   "execution_count": null,
   "metadata": {},
   "outputs": [],
   "source": [
    "with ThreadPoolExecutor(max_workers=num_threads) as executor:\n",
    "    executor.map(lambda args: download_chunk(*args, url, args[2]), [(start, end, i) for i, (start, end) in enumerate(ranges)])"
   ]
  },
  {
   "cell_type": "code",
   "execution_count": null,
   "metadata": {},
   "outputs": [],
   "source": [
    "def combine_files(chunk_prefix, output_file):\n",
    "    with open(output_file, 'wb') as output_f:\n",
    "        chunk_number = 0\n",
    "        while True:\n",
    "            try:\n",
    "                with open(f'{chunk_prefix}_{chunk_number}', 'rb') as chunk_f:\n",
    "                    chunk = chunk_f.read()\n",
    "                    if not chunk:\n",
    "                        break\n",
    "                    output_f.write(chunk)\n",
    "                chunk_number += 1\n",
    "            except FileNotFoundError:\n",
    "                break"
   ]
  },
  {
   "cell_type": "code",
   "execution_count": null,
   "metadata": {},
   "outputs": [],
   "source": [
    "chunk_prefix = 'chunk'  # Prefix used while splitting\n",
    "output_file = 'combined_file.zip'  # Specify the desired output file name\n",
    "\n",
    "combine_files(chunk_prefix, output_file)"
   ]
  },
  {
   "cell_type": "code",
   "execution_count": null,
   "metadata": {},
   "outputs": [],
   "source": [
    "def clean_up_chunks(chunk_prefix):\n",
    "    for file_name in os.listdir():\n",
    "        if file_name.startswith(chunk_prefix):\n",
    "            os.remove(file_name)\n",
    "\n",
    "clean_up_chunks(chunk_prefix)  # Clean up files with prefix 'chunk'"
   ]
  }
 ],
 "metadata": {
  "kernelspec": {
   "display_name": "Python 3",
   "language": "python",
   "name": "python3"
  },
  "language_info": {
   "codemirror_mode": {
    "name": "ipython",
    "version": 3
   },
   "file_extension": ".py",
   "mimetype": "text/x-python",
   "name": "python",
   "nbconvert_exporter": "python",
   "pygments_lexer": "ipython3",
   "version": "3.10.6"
  }
 },
 "nbformat": 4,
 "nbformat_minor": 2
}
