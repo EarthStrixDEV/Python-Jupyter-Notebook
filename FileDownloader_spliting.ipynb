{
 "cells": [
  {
   "cell_type": "code",
   "execution_count": 5,
   "metadata": {},
   "outputs": [],
   "source": [
    "import requests\n",
    "import threading\n",
    "import os"
   ]
  },
  {
   "cell_type": "code",
   "execution_count": 6,
   "metadata": {},
   "outputs": [],
   "source": [
    "num_threads = 4\n",
    "url = \"http://212.183.159.230/1GB.zip\"\n",
    "threads = []"
   ]
  },
  {
   "cell_type": "code",
   "execution_count": 7,
   "metadata": {},
   "outputs": [],
   "source": [
    "def download_chunk(start_range, end_range):\n",
    "    headers = {'Range': f'bytes={start_range}-{end_range}'}\n",
    "    response = requests.get(url, headers=headers)\n",
    "    with open(f'chunk{start_range}{end_range}.zip', 'wb') as f:\n",
    "        f.write(response.content)"
   ]
  },
  {
   "cell_type": "code",
   "execution_count": 8,
   "metadata": {},
   "outputs": [],
   "source": [
    "response = requests.head(url)\n",
    "total_size = int(response.headers['Content-Length'])\n",
    "chunk_size = total_size // num_threads"
   ]
  },
  {
   "cell_type": "code",
   "execution_count": 9,
   "metadata": {},
   "outputs": [
    {
     "name": "stdout",
     "output_type": "stream",
     "text": [
      "ดาวน์โหลดเสร็จสิ้น\n"
     ]
    }
   ],
   "source": [
    "for i in range(num_threads):\n",
    "    start_range = i * num_threads\n",
    "    end_range = start_range + num_threads - 1\n",
    "    thread = threading.Thread(target=download_chunk, args=(start_range, end_range))\n",
    "    threads.append(thread)\n",
    "    thread.start()\n",
    "\n",
    "for thread in threads:\n",
    "    thread.join()\n",
    "\n",
    "print(\"ดาวน์โหลดเสร็จสิ้น\")"
   ]
  },
  {
   "cell_type": "code",
   "execution_count": 12,
   "metadata": {},
   "outputs": [],
   "source": [
    "chunk_files = ['chunk03.zip', 'chunk47.zip', 'chunk811.zip', 'chunk1215.zip']\n",
    "output_file = 'large_data_combined.zip'"
   ]
  },
  {
   "cell_type": "code",
   "execution_count": 13,
   "metadata": {},
   "outputs": [],
   "source": [
    "with open(output_file, 'wb') as output:\n",
    "    for chunk_file in chunk_files:\n",
    "        with open(chunk_file, 'rb') as input_chunk:\n",
    "            output.write(input_chunk.read())"
   ]
  },
  {
   "cell_type": "code",
   "execution_count": 14,
   "metadata": {},
   "outputs": [
    {
     "name": "stdout",
     "output_type": "stream",
     "text": [
      "ไฟล์ส่วนย่อยรวมเป็นไฟล์ใหญ่สำเร็จ\n"
     ]
    }
   ],
   "source": [
    "for chunk_file in chunk_files:\n",
    "    os.remove(chunk_file)\n",
    "\n",
    "print(\"ไฟล์ส่วนย่อยรวมเป็นไฟล์ใหญ่สำเร็จ\")"
   ]
  }
 ],
 "metadata": {
  "kernelspec": {
   "display_name": "Python 3",
   "language": "python",
   "name": "python3"
  },
  "language_info": {
   "codemirror_mode": {
    "name": "ipython",
    "version": 3
   },
   "file_extension": ".py",
   "mimetype": "text/x-python",
   "name": "python",
   "nbconvert_exporter": "python",
   "pygments_lexer": "ipython3",
   "version": "3.10.6"
  }
 },
 "nbformat": 4,
 "nbformat_minor": 2
}
